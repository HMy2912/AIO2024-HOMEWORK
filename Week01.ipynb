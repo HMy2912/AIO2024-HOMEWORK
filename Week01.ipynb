{
  "cells": [
    {
      "cell_type": "code",
      "execution_count": 1,
      "metadata": {
        "id": "53-60VwmU_7M"
      },
      "outputs": [],
      "source": [
        "import math"
      ]
    },
    {
      "cell_type": "markdown",
      "metadata": {
        "id": "OJITRHg7asGt"
      },
      "source": [
        "# Câu hỏi 1 - Đáp án C"
      ]
    },
    {
      "cell_type": "code",
      "execution_count": 2,
      "metadata": {
        "id": "fljl7eLrZ28B"
      },
      "outputs": [],
      "source": [
        "def calc_f1_score(tp, fp, fn):\n",
        "    # int\n",
        "    if not isinstance(tp, int):\n",
        "      print(\"tp must be int\")\n",
        "    if not isinstance(fp, int):\n",
        "        print(\"fp must be int\")\n",
        "    if not isinstance(fn, int):\n",
        "        print(\"fn must be int\")\n",
        "\n",
        "    # > 0\n",
        "    if tp <= 0 or fp <= 0 or fn <= 0:\n",
        "        print(\"tp, fp và fn must be greater than zero\")\n",
        "        return None\n",
        "\n",
        "    precision = tp / (tp + fp)\n",
        "    recall = tp / (tp + fn)\n",
        "    f1_score = 2 * (precision * recall) / (precision + recall)\n",
        "    return f1_score"
      ]
    },
    {
      "cell_type": "code",
      "execution_count": 3,
      "metadata": {
        "colab": {
          "base_uri": "https://localhost:8080/"
        },
        "id": "id6WustybYWT",
        "outputId": "30976653-f993-4ae3-d950-9fbe7e425c62"
      },
      "outputs": [
        {
          "name": "stdout",
          "output_type": "stream",
          "text": [
            "0.31\n"
          ]
        }
      ],
      "source": [
        "assert round(calc_f1_score(tp =2, fp =3, fn =5), 2) == 0.33\n",
        "print(round(calc_f1_score(tp =2, fp =4, fn =5), 2))"
      ]
    },
    {
      "cell_type": "markdown",
      "metadata": {
        "id": "2O5Me_eabzjL"
      },
      "source": [
        "# Câu hỏi 2 - Đáp án B"
      ]
    },
    {
      "cell_type": "code",
      "execution_count": 4,
      "metadata": {
        "id": "cMt9qFjwbnSR"
      },
      "outputs": [],
      "source": [
        "def is_number(n):\n",
        "  try:\n",
        "    float(n)\n",
        "    return True\n",
        "  except ValueError:\n",
        "    return False"
      ]
    },
    {
      "cell_type": "code",
      "execution_count": 5,
      "metadata": {
        "colab": {
          "base_uri": "https://localhost:8080/"
        },
        "id": "-kdTRplqcNqX",
        "outputId": "83f510cc-758a-4d0d-f364-89a3b6531e48"
      },
      "outputs": [
        {
          "name": "stdout",
          "output_type": "stream",
          "text": [
            "True\n",
            "False\n"
          ]
        }
      ],
      "source": [
        "assert is_number (3) == 1.0\n",
        "assert is_number ('-2a') == 0.0\n",
        "print(is_number(1))\n",
        "print(is_number('n'))"
      ]
    },
    {
      "cell_type": "markdown",
      "metadata": {
        "id": "UqXbRUmpcXe0"
      },
      "source": [
        "# Câu hỏi 3 - Đáp án C"
      ]
    },
    {
      "cell_type": "code",
      "execution_count": 6,
      "metadata": {
        "colab": {
          "base_uri": "https://localhost:8080/"
        },
        "id": "Dx6L7fcGcWXe",
        "outputId": "92ff6661-074b-47ae-cd6f-2def713e827b"
      },
      "outputs": [
        {
          "name": "stdout",
          "output_type": "stream",
          "text": [
            "0.0\n"
          ]
        }
      ],
      "source": [
        "#ReLU\n",
        "x = -2.0\n",
        "def calc_relu(x):\n",
        "  if x <= 0:\n",
        "    return 0.0\n",
        "  else:\n",
        "    return x\n",
        "print(calc_relu(x))"
      ]
    },
    {
      "cell_type": "markdown",
      "metadata": {
        "id": "QJnlGr1dcqua"
      },
      "source": [
        "# Câu hỏi 4 - Đáp án A"
      ]
    },
    {
      "cell_type": "code",
      "execution_count": 7,
      "metadata": {
        "id": "8v2FrkDyckEP"
      },
      "outputs": [],
      "source": [
        "def calc_sig(x):\n",
        "    return 1.0 / (1.0 + math.exp(-x))"
      ]
    },
    {
      "cell_type": "code",
      "execution_count": 8,
      "metadata": {
        "colab": {
          "base_uri": "https://localhost:8080/"
        },
        "id": "DtculzS1c-CB",
        "outputId": "47dbe8a8-f4b1-4628-dfe1-be7d359682f9"
      },
      "outputs": [
        {
          "name": "stdout",
          "output_type": "stream",
          "text": [
            "0.88\n"
          ]
        }
      ],
      "source": [
        "assert round(calc_sig(3), 2) == 0.95\n",
        "print(round(calc_sig(2), 2))"
      ]
    },
    {
      "cell_type": "markdown",
      "metadata": {
        "id": "og6BYlmIdGH2"
      },
      "source": [
        "# Câu hỏi 5 - Đáp án B"
      ]
    },
    {
      "cell_type": "code",
      "execution_count": 9,
      "metadata": {
        "id": "I9FCazHJdFUK"
      },
      "outputs": [],
      "source": [
        "def calc_elu(x, alpha=0.01):\n",
        "    if x <= 0:\n",
        "        return alpha * (math.exp(x) - 1)\n",
        "    else:\n",
        "        return x"
      ]
    },
    {
      "cell_type": "code",
      "execution_count": 10,
      "metadata": {
        "colab": {
          "base_uri": "https://localhost:8080/"
        },
        "id": "hY6bE5JBdRER",
        "outputId": "f82d4a73-0395-406c-ffaf-a06d2492a103"
      },
      "outputs": [
        {
          "name": "stdout",
          "output_type": "stream",
          "text": [
            "-0.01\n"
          ]
        }
      ],
      "source": [
        "assert round(calc_elu(1)) == 1\n",
        "print(round(calc_elu(-1), 2))"
      ]
    },
    {
      "cell_type": "markdown",
      "metadata": {
        "id": "vzuC7MeGdgNw"
      },
      "source": [
        "# Câu hỏi 6 - Đáp án A"
      ]
    },
    {
      "cell_type": "code",
      "execution_count": 11,
      "metadata": {
        "id": "fNgC18oDde4c"
      },
      "outputs": [],
      "source": [
        "def calc_activation_func(x, act_name):\n",
        "    if act_name == 'sigmoid':\n",
        "        return calc_sig(x)\n",
        "    elif act_name == 'relu':\n",
        "        return calc_relu(x)\n",
        "    elif act_name == 'elu':\n",
        "        return calc_elu(x)\n",
        "    else:\n",
        "        raise ValueError(\"Invalid activation function name\")"
      ]
    },
    {
      "cell_type": "code",
      "execution_count": 12,
      "metadata": {
        "colab": {
          "base_uri": "https://localhost:8080/"
        },
        "id": "t1RkmWDmddiY",
        "outputId": "b2937900-ef99-4feb-a00c-5fbdabd8b7a2"
      },
      "outputs": [
        {
          "name": "stdout",
          "output_type": "stream",
          "text": [
            "0.95\n"
          ]
        }
      ],
      "source": [
        "assert calc_activation_func(x = 1, act_name ='relu') == 1\n",
        "print(round(calc_activation_func(x = 3, act_name ='sigmoid'), 2))"
      ]
    },
    {
      "cell_type": "markdown",
      "metadata": {
        "id": "mCfVxj8fe4BR"
      },
      "source": [
        "# Câu hỏi 7 - Đáp án A"
      ]
    },
    {
      "cell_type": "code",
      "execution_count": 13,
      "metadata": {
        "id": "izbdHZr-e2Lt"
      },
      "outputs": [],
      "source": [
        "def calc_ae(y, y_hat):\n",
        "    absolute_error = abs(y - y_hat)\n",
        "    return absolute_error"
      ]
    },
    {
      "cell_type": "code",
      "execution_count": 14,
      "metadata": {
        "colab": {
          "base_uri": "https://localhost:8080/"
        },
        "id": "t6GOJ7cefFwL",
        "outputId": "1947e9e8-836b-4d55-c12e-bbd5ef6bbdb2"
      },
      "outputs": [
        {
          "name": "stdout",
          "output_type": "stream",
          "text": [
            "7\n"
          ]
        }
      ],
      "source": [
        "y = 1\n",
        "y_hat = 6\n",
        "assert calc_ae(y, y_hat) == 5\n",
        "y = 2\n",
        "y_hat = 9\n",
        "print(calc_ae(y, y_hat))"
      ]
    },
    {
      "cell_type": "markdown",
      "metadata": {
        "id": "90aOl6BpfcOf"
      },
      "source": [
        "# Câu hỏi 8 - Đáp án A"
      ]
    },
    {
      "cell_type": "code",
      "execution_count": 15,
      "metadata": {
        "id": "Cbxarju5fOFA"
      },
      "outputs": [],
      "source": [
        "def calc_se(y, y_hat):\n",
        "    squared_error = (y - y_hat)**2\n",
        "    return squared_error"
      ]
    },
    {
      "cell_type": "code",
      "execution_count": 16,
      "metadata": {
        "colab": {
          "base_uri": "https://localhost:8080/"
        },
        "id": "G0K186Y6fgN2",
        "outputId": "8e15ffff-dbe2-4cfe-bd72-9c3c4da77194"
      },
      "outputs": [
        {
          "name": "stdout",
          "output_type": "stream",
          "text": [
            "1\n"
          ]
        }
      ],
      "source": [
        "y = 4\n",
        "y_hat = 2\n",
        "assert calc_se(y, y_hat) == 4\n",
        "print(calc_se (2, 1))"
      ]
    },
    {
      "cell_type": "markdown",
      "metadata": {
        "id": "Xt0Fx84pfmLn"
      },
      "source": [
        "# Câu hỏi 9 - Đáp án C"
      ]
    },
    {
      "cell_type": "code",
      "execution_count": 17,
      "metadata": {
        "id": "HoSnkortflUV"
      },
      "outputs": [],
      "source": [
        "def approx_cos(x, n):\n",
        "    cos_approx = 1.0\n",
        "    for k in range(1, n + 1):\n",
        "        term = (-1)**k * x**(2 * k) / math.factorial(2 * k)\n",
        "        cos_approx += term\n",
        "\n",
        "    return cos_approx"
      ]
    },
    {
      "cell_type": "code",
      "execution_count": 18,
      "metadata": {
        "colab": {
          "base_uri": "https://localhost:8080/"
        },
        "id": "K9MyFQG1f1KG",
        "outputId": "647987cf-d9bc-4664-fd7d-fce400661047"
      },
      "outputs": [
        {
          "name": "stdout",
          "output_type": "stream",
          "text": [
            "-1.0\n"
          ]
        }
      ],
      "source": [
        "assert round(approx_cos(x =1, n =10), 2) == 0.54\n",
        "print(round(approx_cos(x =3.14, n =10), 2))"
      ]
    },
    {
      "cell_type": "markdown",
      "metadata": {
        "id": "s26FE6L1f-Zv"
      },
      "source": [
        "# Câu hỏi 10 - Đáp án A"
      ]
    },
    {
      "cell_type": "code",
      "execution_count": 19,
      "metadata": {
        "id": "nvUX4JKNf9zr"
      },
      "outputs": [],
      "source": [
        "def approx_sin(x, n):\n",
        "    sin_approx = 0.0\n",
        "    for k in range(n + 1):\n",
        "        term = (-1)**k * x**(2 * k + 1) / math.factorial(2 * k + 1)\n",
        "        sin_approx += term\n",
        "\n",
        "    return sin_approx"
      ]
    },
    {
      "cell_type": "code",
      "execution_count": 20,
      "metadata": {
        "colab": {
          "base_uri": "https://localhost:8080/"
        },
        "id": "9hxUHktDgNZt",
        "outputId": "709e9e07-97c9-47d8-bf52-a433088e368e"
      },
      "outputs": [
        {
          "name": "stdout",
          "output_type": "stream",
          "text": [
            "0.0016\n"
          ]
        }
      ],
      "source": [
        "assert round(approx_sin(x =1, n =10), 4) == 0.8415\n",
        "print(round(approx_sin(x =3.14, n =10), 4))"
      ]
    },
    {
      "cell_type": "markdown",
      "metadata": {
        "id": "hrnjfRNQgxiJ"
      },
      "source": [
        "# Câu hỏi 11 - Đáp án A"
      ]
    },
    {
      "cell_type": "code",
      "execution_count": 21,
      "metadata": {
        "id": "CjysTwN8gWbe"
      },
      "outputs": [],
      "source": [
        "def approx_sinh(x, n):\n",
        "    sinh_approx = 0.0\n",
        "    for k in range(n + 1):\n",
        "        term = x**(2 * k + 1) / math.factorial(2 * k + 1)\n",
        "        sinh_approx += term\n",
        "\n",
        "    return sinh_approx"
      ]
    },
    {
      "cell_type": "code",
      "execution_count": 22,
      "metadata": {
        "colab": {
          "base_uri": "https://localhost:8080/"
        },
        "id": "o8aNBA_ig2hN",
        "outputId": "216cadf4-1434-438f-9a27-c91790388b45"
      },
      "outputs": [
        {
          "name": "stdout",
          "output_type": "stream",
          "text": [
            "11.53\n"
          ]
        }
      ],
      "source": [
        "assert round(approx_sinh(x =1, n =10), 2) == 1.18\n",
        "print(round(approx_sinh(x =3.14, n =10), 2))"
      ]
    },
    {
      "cell_type": "markdown",
      "metadata": {
        "id": "T0imOspVg_ix"
      },
      "source": [
        "# Câu hỏi 12 - Đáp án A"
      ]
    },
    {
      "cell_type": "code",
      "execution_count": 23,
      "metadata": {
        "id": "44RkAkxfg9X1"
      },
      "outputs": [],
      "source": [
        "def approx_cosh(x, n):\n",
        "    cosh_approx = 1.0\n",
        "    for k in range(1, n + 1):\n",
        "        term = x**(2 * k) / math.factorial(2 * k)\n",
        "        cosh_approx += term\n",
        "\n",
        "    return cosh_approx"
      ]
    },
    {
      "cell_type": "code",
      "execution_count": 24,
      "metadata": {
        "colab": {
          "base_uri": "https://localhost:8080/"
        },
        "id": "3zF3CYxPhOj8",
        "outputId": "57f8491f-14a6-4495-fbb1-47d8911ad73f"
      },
      "outputs": [
        {
          "name": "stdout",
          "output_type": "stream",
          "text": [
            "11.57\n"
          ]
        }
      ],
      "source": [
        "assert round(approx_cosh(x =1, n =10), 2) == 1.54\n",
        "print(round(approx_cosh(x =3.14, n =10), 2))"
      ]
    },
    {
      "cell_type": "markdown",
      "metadata": {
        "id": "bs6bZamDiAJZ"
      },
      "source": [
        "# Câu hỏi 13 - Đáp án C"
      ]
    },
    {
      "cell_type": "code",
      "execution_count": 25,
      "metadata": {
        "id": "i6DxWkAYh1dw"
      },
      "outputs": [],
      "source": [
        "# (A)\n",
        "def md_nre_single_sample (y , y_hat , n , p) :\n",
        "  y_root = y ** (1/ n )\n",
        "  y_hat_root = y_hat ** (1/ n )\n",
        "  difference = y_root - y_hat_root\n",
        "  loss = difference ** p\n",
        "  return loss\n",
        "\n",
        "# (B)\n",
        "def md_nre_single_sample1 (y , y_hat , n , p ) :\n",
        "  y_root = y ** (1/ n )\n",
        "  y_hat_root = y_hat ** (1/2)\n",
        "  difference = y_root - y_hat_root\n",
        "  loss = difference ** p\n",
        "  return loss\n",
        "# (C)\n",
        "def md_nre_single_sample2 (y , y_hat , n , p ) :\n",
        "  y_root = y ** (1/ n )\n",
        "  y_hat_root = y_hat ** (1/ n )\n",
        "  difference = y_root / y_hat_root\n",
        "  loss = difference ** p\n",
        "  return loss\n",
        "\n",
        "# (D)\n",
        "def md_nre_single_sample3 (y , y_hat , n , p ) :\n",
        "  y_root = y ** (1/ n )\n",
        "  y_hat_root = y_hat ** (1/ n )\n",
        "  difference = y_root - y_hat_root\n",
        "  loss = difference\n",
        "  return loss"
      ]
    },
    {
      "cell_type": "code",
      "execution_count": 26,
      "metadata": {
        "colab": {
          "base_uri": "https://localhost:8080/"
        },
        "id": "S2OzsRYDjkCs",
        "outputId": "7a7fbf8e-2904-46da-e6eb-bda2994f3762"
      },
      "outputs": [
        {
          "name": "stdout",
          "output_type": "stream",
          "text": [
            "0.025031328369998107\n",
            "0.03544417213033135\n",
            "1.0127393670836666\n",
            "0.45836890322464546\n"
          ]
        }
      ],
      "source": [
        "print(md_nre_single_sample ( y =100 , y_hat =99.5 , n =2 , p =1))\n",
        "# 0.025031328369998107\n",
        "\n",
        "print(md_nre_single_sample1 ( y =50 , y_hat =49.5 , n =2 , p =1))\n",
        "# 0.03544417213033135\n",
        "\n",
        "print(md_nre_single_sample2 ( y =20 , y_hat =19.5 , n =2 , p =1))\n",
        "# 0.05625552183565574\n",
        "\n",
        "print(md_nre_single_sample3 ( y =0.6 , y_hat =0.1 , n =2 , p =1))\n",
        "# 0.45836890322464546"
      ]
    },
    {
      "cell_type": "code",
      "execution_count": null,
      "metadata": {
        "id": "2EvG6Kqzjwf8"
      },
      "outputs": [],
      "source": []
    }
  ],
  "metadata": {
    "colab": {
      "provenance": []
    },
    "kernelspec": {
      "display_name": "Python 3",
      "name": "python3"
    },
    "language_info": {
      "codemirror_mode": {
        "name": "ipython",
        "version": 3
      },
      "file_extension": ".py",
      "mimetype": "text/x-python",
      "name": "python",
      "nbconvert_exporter": "python",
      "pygments_lexer": "ipython3",
      "version": "3.11.9"
    }
  },
  "nbformat": 4,
  "nbformat_minor": 0
}
